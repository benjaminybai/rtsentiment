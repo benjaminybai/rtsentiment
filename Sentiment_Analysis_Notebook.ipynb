{
 "cells": [
  {
   "cell_type": "code",
   "execution_count": 1,
   "metadata": {},
   "outputs": [],
   "source": [
    "import warnings\n",
    "warnings.filterwarnings(\"ignore\")\n",
    "\n",
    "import pandas as pd\n",
    "import numpy as np\n",
    "import re\n",
    "import string\n",
    "\n",
    "from matplotlib import pyplot as plt\n",
    "import seaborn as sns\n",
    "%matplotlib inline\n",
    "plt.style.use('seaborn')\n",
    "\n",
    "from wordcloud import WordCloud\n",
    "\n",
    "from nltk.corpus import stopwords, wordnet\n",
    "from nltk.stem import WordNetLemmatizer\n",
    "\n",
    "from nltk import pos_tag\n",
    "from sklearn.feature_extraction.text import TfidfVectorizer, CountVectorizer\n",
    "from nltk.tokenize import regexp_tokenize, word_tokenize, RegexpTokenizer\n",
    "\n",
    "from sklearn.linear_model import Lasso\n",
    "from sklearn import preprocessing\n",
    "from sklearn.pipeline import Pipeline\n",
    "from sklearn.preprocessing import LabelEncoder, StandardScaler\n",
    "from sklearn.model_selection import GridSearchCV, RandomizedSearchCV, RepeatedStratifiedKFold, cross_val_score, train_test_split\n",
    "from sklearn.metrics import recall_score, precision_score, f1_score, accuracy_score, classification_report, plot_confusion_matrix\n",
    "from sklearn.dummy import DummyClassifier\n",
    "from sklearn.naive_bayes import MultinomialNB, GaussianNB\n",
    "from sklearn.linear_model import LogisticRegression, RidgeClassifier\n",
    "from sklearn.ensemble import RandomForestClassifier, GradientBoostingClassifier\n",
    "from sklearn.neighbors import KNeighborsClassifier\n",
    "from sklearn.svm import SVC\n",
    "from imblearn.pipeline import Pipeline as ImPipeline\n",
    "from imblearn.over_sampling import SMOTE\n",
    "\n",
    "import tensorflow\n",
    "import keras\n",
    "from keras.layers import Dense, Dropout, Conv1D, MaxPool1D, GlobalMaxPool1D, Embedding, Activation\n",
    "from keras.preprocessing.text import Tokenizer\n",
    "from keras.preprocessing.sequence import pad_sequences\n",
    "from keras.models import Sequential\n",
    "from tensorflow.keras.utils import to_categorical\n",
    "\n",
    "from keras.preprocessing.sequence import pad_sequences\n",
    "from keras.layers import Input, Dense, LSTM, Embedding\n",
    "from keras.layers import Dropout, Activation, Bidirectional, GlobalMaxPool1D\n",
    "from keras.models import Sequential\n",
    "from keras import initializers, regularizers, constraints, optimizers, layers\n",
    "from keras.preprocessing import text, sequence\n",
    "from sklearn.preprocessing import OneHotEncoder\n",
    "from tensorflow.keras.callbacks import ModelCheckpoint\n",
    "\n",
    "import random\n",
    "from sklearn.model_selection import train_test_split\n",
    "from keras.utils.np_utils import to_categorical\n",
    "from sklearn import preprocessing\n",
    "from keras.preprocessing.text import Tokenizer\n",
    "from keras import models\n",
    "from keras import layers\n",
    "from keras import optimizers"
   ]
  },
  {
   "cell_type": "markdown",
   "metadata": {},
   "source": [
    "# Observations"
   ]
  },
  {
   "cell_type": "code",
   "execution_count": 2,
   "metadata": {},
   "outputs": [],
   "source": [
    "# Load Data, Initialize Dataframe\n",
    "imdb_reviews_df = pd.read_csv('imdb_reviews.csv')"
   ]
  },
  {
   "cell_type": "code",
   "execution_count": 3,
   "metadata": {
    "scrolled": true
   },
   "outputs": [
    {
     "name": "stdout",
     "output_type": "stream",
     "text": [
      "<class 'pandas.core.frame.DataFrame'>\n",
      "RangeIndex: 40000 entries, 0 to 39999\n",
      "Data columns (total 2 columns):\n",
      " #   Column  Non-Null Count  Dtype \n",
      "---  ------  --------------  ----- \n",
      " 0   text    40000 non-null  object\n",
      " 1   label   40000 non-null  int64 \n",
      "dtypes: int64(1), object(1)\n",
      "memory usage: 625.1+ KB\n"
     ]
    }
   ],
   "source": [
    "imdb_reviews_df.info()"
   ]
  },
  {
   "cell_type": "code",
   "execution_count": 4,
   "metadata": {
    "scrolled": true
   },
   "outputs": [
    {
     "data": {
      "text/html": [
       "<div>\n",
       "<style scoped>\n",
       "    .dataframe tbody tr th:only-of-type {\n",
       "        vertical-align: middle;\n",
       "    }\n",
       "\n",
       "    .dataframe tbody tr th {\n",
       "        vertical-align: top;\n",
       "    }\n",
       "\n",
       "    .dataframe thead th {\n",
       "        text-align: right;\n",
       "    }\n",
       "</style>\n",
       "<table border=\"1\" class=\"dataframe\">\n",
       "  <thead>\n",
       "    <tr style=\"text-align: right;\">\n",
       "      <th></th>\n",
       "      <th>text</th>\n",
       "      <th>label</th>\n",
       "    </tr>\n",
       "  </thead>\n",
       "  <tbody>\n",
       "    <tr>\n",
       "      <th>0</th>\n",
       "      <td>I grew up (b. 1965) watching and loving the Th...</td>\n",
       "      <td>0</td>\n",
       "    </tr>\n",
       "    <tr>\n",
       "      <th>1</th>\n",
       "      <td>When I put this movie in my DVD player, and sa...</td>\n",
       "      <td>0</td>\n",
       "    </tr>\n",
       "    <tr>\n",
       "      <th>2</th>\n",
       "      <td>Why do people who do not know what a particula...</td>\n",
       "      <td>0</td>\n",
       "    </tr>\n",
       "    <tr>\n",
       "      <th>3</th>\n",
       "      <td>Even though I have great interest in Biblical ...</td>\n",
       "      <td>0</td>\n",
       "    </tr>\n",
       "    <tr>\n",
       "      <th>4</th>\n",
       "      <td>Im a die hard Dads Army fan and nothing will e...</td>\n",
       "      <td>1</td>\n",
       "    </tr>\n",
       "    <tr>\n",
       "      <th>5</th>\n",
       "      <td>A terrible movie as everyone has said. What ma...</td>\n",
       "      <td>0</td>\n",
       "    </tr>\n",
       "    <tr>\n",
       "      <th>6</th>\n",
       "      <td>Finally watched this shocking movie last night...</td>\n",
       "      <td>1</td>\n",
       "    </tr>\n",
       "    <tr>\n",
       "      <th>7</th>\n",
       "      <td>I caught this film on AZN on cable. It sounded...</td>\n",
       "      <td>0</td>\n",
       "    </tr>\n",
       "    <tr>\n",
       "      <th>8</th>\n",
       "      <td>It may be the remake of 1987 Autumn's Tale aft...</td>\n",
       "      <td>1</td>\n",
       "    </tr>\n",
       "    <tr>\n",
       "      <th>9</th>\n",
       "      <td>My Super Ex Girlfriend turned out to be a plea...</td>\n",
       "      <td>1</td>\n",
       "    </tr>\n",
       "  </tbody>\n",
       "</table>\n",
       "</div>"
      ],
      "text/plain": [
       "                                                text  label\n",
       "0  I grew up (b. 1965) watching and loving the Th...      0\n",
       "1  When I put this movie in my DVD player, and sa...      0\n",
       "2  Why do people who do not know what a particula...      0\n",
       "3  Even though I have great interest in Biblical ...      0\n",
       "4  Im a die hard Dads Army fan and nothing will e...      1\n",
       "5  A terrible movie as everyone has said. What ma...      0\n",
       "6  Finally watched this shocking movie last night...      1\n",
       "7  I caught this film on AZN on cable. It sounded...      0\n",
       "8  It may be the remake of 1987 Autumn's Tale aft...      1\n",
       "9  My Super Ex Girlfriend turned out to be a plea...      1"
      ]
     },
     "execution_count": 4,
     "metadata": {},
     "output_type": "execute_result"
    }
   ],
   "source": [
    "imdb_reviews_df.head(10)"
   ]
  },
  {
   "cell_type": "code",
   "execution_count": 5,
   "metadata": {},
   "outputs": [],
   "source": [
    "# Add new Column with Descriptive Value of Label\n",
    "label_dict = {0:'Negative', 1:'Positive'}\n",
    "imdb_reviews_df['emotion'] = imdb_reviews_df['label'].map(label_dict)"
   ]
  },
  {
   "cell_type": "code",
   "execution_count": 6,
   "metadata": {},
   "outputs": [],
   "source": [
    "# Drop old label columns\n",
    "imdb_reviews_df.drop('label', axis=1, inplace=True)"
   ]
  },
  {
   "cell_type": "code",
   "execution_count": 7,
   "metadata": {},
   "outputs": [
    {
     "data": {
      "text/html": [
       "<div>\n",
       "<style scoped>\n",
       "    .dataframe tbody tr th:only-of-type {\n",
       "        vertical-align: middle;\n",
       "    }\n",
       "\n",
       "    .dataframe tbody tr th {\n",
       "        vertical-align: top;\n",
       "    }\n",
       "\n",
       "    .dataframe thead th {\n",
       "        text-align: right;\n",
       "    }\n",
       "</style>\n",
       "<table border=\"1\" class=\"dataframe\">\n",
       "  <thead>\n",
       "    <tr style=\"text-align: right;\">\n",
       "      <th></th>\n",
       "      <th>text</th>\n",
       "      <th>emotion</th>\n",
       "    </tr>\n",
       "  </thead>\n",
       "  <tbody>\n",
       "    <tr>\n",
       "      <th>0</th>\n",
       "      <td>I grew up (b. 1965) watching and loving the Th...</td>\n",
       "      <td>Negative</td>\n",
       "    </tr>\n",
       "    <tr>\n",
       "      <th>1</th>\n",
       "      <td>When I put this movie in my DVD player, and sa...</td>\n",
       "      <td>Negative</td>\n",
       "    </tr>\n",
       "    <tr>\n",
       "      <th>2</th>\n",
       "      <td>Why do people who do not know what a particula...</td>\n",
       "      <td>Negative</td>\n",
       "    </tr>\n",
       "    <tr>\n",
       "      <th>3</th>\n",
       "      <td>Even though I have great interest in Biblical ...</td>\n",
       "      <td>Negative</td>\n",
       "    </tr>\n",
       "    <tr>\n",
       "      <th>4</th>\n",
       "      <td>Im a die hard Dads Army fan and nothing will e...</td>\n",
       "      <td>Positive</td>\n",
       "    </tr>\n",
       "    <tr>\n",
       "      <th>5</th>\n",
       "      <td>A terrible movie as everyone has said. What ma...</td>\n",
       "      <td>Negative</td>\n",
       "    </tr>\n",
       "    <tr>\n",
       "      <th>6</th>\n",
       "      <td>Finally watched this shocking movie last night...</td>\n",
       "      <td>Positive</td>\n",
       "    </tr>\n",
       "    <tr>\n",
       "      <th>7</th>\n",
       "      <td>I caught this film on AZN on cable. It sounded...</td>\n",
       "      <td>Negative</td>\n",
       "    </tr>\n",
       "    <tr>\n",
       "      <th>8</th>\n",
       "      <td>It may be the remake of 1987 Autumn's Tale aft...</td>\n",
       "      <td>Positive</td>\n",
       "    </tr>\n",
       "    <tr>\n",
       "      <th>9</th>\n",
       "      <td>My Super Ex Girlfriend turned out to be a plea...</td>\n",
       "      <td>Positive</td>\n",
       "    </tr>\n",
       "  </tbody>\n",
       "</table>\n",
       "</div>"
      ],
      "text/plain": [
       "                                                text   emotion\n",
       "0  I grew up (b. 1965) watching and loving the Th...  Negative\n",
       "1  When I put this movie in my DVD player, and sa...  Negative\n",
       "2  Why do people who do not know what a particula...  Negative\n",
       "3  Even though I have great interest in Biblical ...  Negative\n",
       "4  Im a die hard Dads Army fan and nothing will e...  Positive\n",
       "5  A terrible movie as everyone has said. What ma...  Negative\n",
       "6  Finally watched this shocking movie last night...  Positive\n",
       "7  I caught this film on AZN on cable. It sounded...  Negative\n",
       "8  It may be the remake of 1987 Autumn's Tale aft...  Positive\n",
       "9  My Super Ex Girlfriend turned out to be a plea...  Positive"
      ]
     },
     "execution_count": 7,
     "metadata": {},
     "output_type": "execute_result"
    }
   ],
   "source": [
    "imdb_reviews_df.head(10)"
   ]
  },
  {
   "cell_type": "code",
   "execution_count": 8,
   "metadata": {},
   "outputs": [
    {
     "data": {
      "text/plain": [
       "Negative    20019\n",
       "Positive    19981\n",
       "Name: emotion, dtype: int64"
      ]
     },
     "execution_count": 8,
     "metadata": {},
     "output_type": "execute_result"
    }
   ],
   "source": [
    "imdb_reviews_df['emotion'].value_counts()"
   ]
  },
  {
   "cell_type": "markdown",
   "metadata": {},
   "source": [
    "# Text Processing"
   ]
  },
  {
   "cell_type": "markdown",
   "metadata": {},
   "source": [
    "In order for the text from the movie reviews to be useful for Sentiment Analysis modeling and predictions, we need to clean it up by applying the following transformations:\n",
    "\n",
    "1. Removal of special characters that could confuse the models and standardization of capitilization\n",
    "2. Tokenization using RegexpTokenizer\n",
    "3. Lemmatization of the Tokens\n",
    "4. Removal of stopwords and modification of stopword library if needed\n",
    "\n",
    "I will create a function that takes in the text as is from the dataset and returns a cleaned format"
   ]
  },
  {
   "cell_type": "code",
   "execution_count": 79,
   "metadata": {},
   "outputs": [],
   "source": [
    "def text_cleaning(text):\n",
    "    \"\"\"\n",
    "    Args:\n",
    "        text(string): The text from which punctuation, stopwords are removed and lemmatized\n",
    "        \n",
    "    Returns:\n",
    "        clean_text(string): A text formed after text preprocessing.\n",
    "    \"\"\"\n",
    "    \n",
    "    # Remove any urls from the text\n",
    "    text = re.sub(r'https:\\/\\/.*[\\r\\n]*',\n",
    "                  \"\",\n",
    "                  str(text))\n",
    "    \n",
    "    # Remove any urls starting from www. in the text\n",
    "    text = re.sub(r'www\\.\\w*\\.\\w\\w\\w',\n",
    "                  \"\",\n",
    "                  str(text))\n",
    "    \n",
    "    # Remove any html elements from the text\n",
    "    text = re.sub(r\"<[\\w]*[\\s]*/>\",\n",
    "                  \"\",\n",
    "                  str(text))\n",
    "    \n",
    "    # Remove periods\n",
    "    text = re.sub(r\"[\\.]*\",\n",
    "                  \"\",\n",
    "                  str(text))\n",
    "    \n",
    " \n",
    "    # Initialize RegexpTokenizer\n",
    "    pattern = \"([a-zA-Z]+(?:'[a-z]+)?)\"\n",
    "    tokenizer = RegexpTokenizer(pattern)\n",
    "\n",
    "    \n",
    "    # Tokenize text\n",
    "    text_tokens = tokenizer.tokenize(text.lower())\n",
    "    \n",
    "    lemmatizer  = WordNetLemmatizer()\n",
    "    # Get english stopwords\n",
    "    english_stopwords = stopwords.words(\"english\")\n",
    "    stopwords_to_add = ['movie', 'film', 'flick', 'story', 'thing', 'also', 'get', 'one','like']\n",
    "    english_stopwords.extend(stopwords_to_add)\n",
    "    cleaned_text_tokens = [] # A list to hold cleaned text tokens\n",
    "    \n",
    "    for word in text_tokens:\n",
    "        if((word not in english_stopwords) and # Remove stopwords\n",
    "            (word not in string.punctuation)): # Remove punctuation marks\n",
    "                \n",
    "                lemmas = lemmatizer.lemmatize(word) # Get lemma of the current word\n",
    "                cleaned_text_tokens.append(lemmas) # Appened lemma word to list of cleaned list\n",
    "    \n",
    "    # Combine list into single string\n",
    "    clean_text = \" \".join(cleaned_text_tokens)\n",
    "    \n",
    "    return clean_text"
   ]
  },
  {
   "cell_type": "code",
   "execution_count": 80,
   "metadata": {},
   "outputs": [],
   "source": [
    "imdb_reviews_df['clean_text'] = imdb_reviews_df['text'].apply(text_cleaning)"
   ]
  },
  {
   "cell_type": "code",
   "execution_count": 81,
   "metadata": {
    "scrolled": true
   },
   "outputs": [
    {
     "data": {
      "text/plain": [
       "0        grew b watching loving thunderbird mate school...\n",
       "1        put dvd player sat coke chip expectation hopin...\n",
       "2        people know particular time past feel need try...\n",
       "3        even though great interest biblical movie bore...\n",
       "5        terrible everyone said made laugh cameo appear...\n",
       "                               ...                        \n",
       "39984    relate failed engage either intellectually emo...\n",
       "39985    comedy what's funny watching ugly deadbeat alc...\n",
       "39993    best welsh trainspotting aye right went pretty...\n",
       "39994    girlfriend habit going blockbuster choosing mo...\n",
       "39997    wife watched plan visit sicily stromboli soon ...\n",
       "Name: clean_text, Length: 20019, dtype: object"
      ]
     },
     "execution_count": 81,
     "metadata": {},
     "output_type": "execute_result"
    }
   ],
   "source": [
    "imdb_reviews_df[imdb_reviews_df['emotion']=='Negative']['clean_text']"
   ]
  },
  {
   "cell_type": "code",
   "execution_count": 82,
   "metadata": {
    "scrolled": false
   },
   "outputs": [
    {
     "data": {
      "text/html": [
       "<div>\n",
       "<style scoped>\n",
       "    .dataframe tbody tr th:only-of-type {\n",
       "        vertical-align: middle;\n",
       "    }\n",
       "\n",
       "    .dataframe tbody tr th {\n",
       "        vertical-align: top;\n",
       "    }\n",
       "\n",
       "    .dataframe thead th {\n",
       "        text-align: right;\n",
       "    }\n",
       "</style>\n",
       "<table border=\"1\" class=\"dataframe\">\n",
       "  <thead>\n",
       "    <tr style=\"text-align: right;\">\n",
       "      <th></th>\n",
       "      <th>text</th>\n",
       "      <th>emotion</th>\n",
       "      <th>clean_text</th>\n",
       "    </tr>\n",
       "  </thead>\n",
       "  <tbody>\n",
       "    <tr>\n",
       "      <th>0</th>\n",
       "      <td>I grew up (b. 1965) watching and loving the Th...</td>\n",
       "      <td>Negative</td>\n",
       "      <td>grew b watching loving thunderbird mate school...</td>\n",
       "    </tr>\n",
       "    <tr>\n",
       "      <th>1</th>\n",
       "      <td>When I put this movie in my DVD player, and sa...</td>\n",
       "      <td>Negative</td>\n",
       "      <td>put dvd player sat coke chip expectation hopin...</td>\n",
       "    </tr>\n",
       "    <tr>\n",
       "      <th>2</th>\n",
       "      <td>Why do people who do not know what a particula...</td>\n",
       "      <td>Negative</td>\n",
       "      <td>people know particular time past feel need try...</td>\n",
       "    </tr>\n",
       "    <tr>\n",
       "      <th>3</th>\n",
       "      <td>Even though I have great interest in Biblical ...</td>\n",
       "      <td>Negative</td>\n",
       "      <td>even though great interest biblical movie bore...</td>\n",
       "    </tr>\n",
       "    <tr>\n",
       "      <th>4</th>\n",
       "      <td>Im a die hard Dads Army fan and nothing will e...</td>\n",
       "      <td>Positive</td>\n",
       "      <td>im die hard dad army fan nothing ever change g...</td>\n",
       "    </tr>\n",
       "    <tr>\n",
       "      <th>5</th>\n",
       "      <td>A terrible movie as everyone has said. What ma...</td>\n",
       "      <td>Negative</td>\n",
       "      <td>terrible everyone said made laugh cameo appear...</td>\n",
       "    </tr>\n",
       "    <tr>\n",
       "      <th>6</th>\n",
       "      <td>Finally watched this shocking movie last night...</td>\n",
       "      <td>Positive</td>\n",
       "      <td>finally watched shocking last night disturbing...</td>\n",
       "    </tr>\n",
       "    <tr>\n",
       "      <th>7</th>\n",
       "      <td>I caught this film on AZN on cable. It sounded...</td>\n",
       "      <td>Negative</td>\n",
       "      <td>caught azn cable sounded would good japanese g...</td>\n",
       "    </tr>\n",
       "    <tr>\n",
       "      <th>8</th>\n",
       "      <td>It may be the remake of 1987 Autumn's Tale aft...</td>\n",
       "      <td>Positive</td>\n",
       "      <td>may remake autumn's tale eleven year director ...</td>\n",
       "    </tr>\n",
       "    <tr>\n",
       "      <th>9</th>\n",
       "      <td>My Super Ex Girlfriend turned out to be a plea...</td>\n",
       "      <td>Positive</td>\n",
       "      <td>super ex girlfriend turned pleasant surprise r...</td>\n",
       "    </tr>\n",
       "  </tbody>\n",
       "</table>\n",
       "</div>"
      ],
      "text/plain": [
       "                                                text   emotion  \\\n",
       "0  I grew up (b. 1965) watching and loving the Th...  Negative   \n",
       "1  When I put this movie in my DVD player, and sa...  Negative   \n",
       "2  Why do people who do not know what a particula...  Negative   \n",
       "3  Even though I have great interest in Biblical ...  Negative   \n",
       "4  Im a die hard Dads Army fan and nothing will e...  Positive   \n",
       "5  A terrible movie as everyone has said. What ma...  Negative   \n",
       "6  Finally watched this shocking movie last night...  Positive   \n",
       "7  I caught this film on AZN on cable. It sounded...  Negative   \n",
       "8  It may be the remake of 1987 Autumn's Tale aft...  Positive   \n",
       "9  My Super Ex Girlfriend turned out to be a plea...  Positive   \n",
       "\n",
       "                                          clean_text  \n",
       "0  grew b watching loving thunderbird mate school...  \n",
       "1  put dvd player sat coke chip expectation hopin...  \n",
       "2  people know particular time past feel need try...  \n",
       "3  even though great interest biblical movie bore...  \n",
       "4  im die hard dad army fan nothing ever change g...  \n",
       "5  terrible everyone said made laugh cameo appear...  \n",
       "6  finally watched shocking last night disturbing...  \n",
       "7  caught azn cable sounded would good japanese g...  \n",
       "8  may remake autumn's tale eleven year director ...  \n",
       "9  super ex girlfriend turned pleasant surprise r...  "
      ]
     },
     "execution_count": 82,
     "metadata": {},
     "output_type": "execute_result"
    }
   ],
   "source": [
    "imdb_reviews_df.head(10)"
   ]
  },
  {
   "cell_type": "markdown",
   "metadata": {},
   "source": [
    "### Word Distribution Analysis"
   ]
  },
  {
   "cell_type": "code",
   "execution_count": 83,
   "metadata": {
    "scrolled": true
   },
   "outputs": [
    {
     "name": "stdout",
     "output_type": "stream",
     "text": [
      "         Word  Frequency\n",
      "0        time      12678\n",
      "1        good      11878\n",
      "2   character      10951\n",
      "3         see      10262\n",
      "4       great      10248\n",
      "5        well       9832\n",
      "6        make       9067\n",
      "7      really       8619\n",
      "8       would       8387\n",
      "9       scene       7881\n",
      "10       life       7640\n",
      "11       even       7623\n",
      "12       show       7570\n",
      "13       love       7349\n",
      "14       much       7265\n",
      "15      first       7250\n",
      "16        way       6974\n",
      "17     people       6854\n",
      "18       best       6720\n",
      "19       year       6076\n",
      "20      think       6072\n",
      "21       film       6050\n",
      "22       many       5988\n",
      "23       made       5758\n",
      "24        two       5714\n"
     ]
    }
   ],
   "source": [
    "dt_positive = imdb_reviews_df[imdb_reviews_df['emotion']=='Positive']['clean_text']\n",
    "\n",
    "from collections import Counter\n",
    "p = Counter(\" \".join(dt_positive).split()).most_common(25)\n",
    "positive_word_df = pd.DataFrame(p, columns=['Word', 'Frequency'])\n",
    "print(positive_word_df)"
   ]
  },
  {
   "cell_type": "code",
   "execution_count": 85,
   "metadata": {
    "scrolled": true
   },
   "outputs": [
    {
     "data": {
      "image/png": "[encoded data removed]",
      "text/plain": [
       "<Figure size 1728x1728 with 1 Axes>"
      ]
     },
     "metadata": {},
     "output_type": "display_data"
    }
   ],
   "source": [
    "plt.figure(figsize=(24,24))\n",
    "ax = sns.barplot(x='Word', y='Frequency', data = positive_word_df, palette='crest')\n",
    "plt.title('Word Distribution', fontsize=36)\n",
    "plt.xlabel('', )\n",
    "plt.tick_params(axis='both', which='major', labelsize=16)\n",
    "plt.savefig('./images/Positive_Word_Distribution_Barchart')"
   ]
  },
  {
   "cell_type": "code",
   "execution_count": 86,
   "metadata": {
    "scrolled": true
   },
   "outputs": [
    {
     "name": "stdout",
     "output_type": "stream",
     "text": [
      "         Word  Frequency\n",
      "0        even      12074\n",
      "1        time      11834\n",
      "2        good      11729\n",
      "3         bad      11498\n",
      "4   character      10989\n",
      "5       would      10976\n",
      "6        make      10343\n",
      "7      really       9830\n",
      "8       scene       8894\n",
      "9         see       8783\n",
      "10       much       7997\n",
      "11     people       7404\n",
      "12      could       7232\n",
      "13       made       6914\n",
      "14       plot       6688\n",
      "15       well       6527\n",
      "16        way       6497\n",
      "17      movie       6490\n",
      "18      first       6446\n",
      "19     acting       6391\n",
      "20         go       6115\n",
      "21      think       6025\n",
      "22       know       5993\n",
      "23       look       5959\n",
      "24       show       5923\n"
     ]
    }
   ],
   "source": [
    "dt_negative = imdb_reviews_df[imdb_reviews_df['emotion']=='Negative']['clean_text']\n",
    "\n",
    "from collections import Counter\n",
    "p = Counter(\" \".join(dt_negative).split()).most_common(25)\n",
    "negative_word_df = pd.DataFrame(p, columns=['Word', 'Frequency'])\n",
    "print(negative_word_df)"
   ]
  },
  {
   "cell_type": "code",
   "execution_count": 87,
   "metadata": {},
   "outputs": [
    {
     "data": {
      "image/png": "[encoded data removed]",
      "text/plain": [
       "<Figure size 1728x1728 with 1 Axes>"
      ]
     },
     "metadata": {},
     "output_type": "display_data"
    }
   ],
   "source": [
    "plt.figure(figsize=(24,24))\n",
    "ax = sns.barplot(x='Word', y='Frequency', data = negative_word_df, palette='rocket')\n",
    "plt.title('Word Distribution', fontsize=36)\n",
    "plt.xlabel('', )\n",
    "plt.tick_params(axis='both', which='major', labelsize=16)\n",
    "plt.savefig('./images/Negative_Word_Distribution_Barchart')"
   ]
  },
  {
   "cell_type": "markdown",
   "metadata": {},
   "source": [
    "### Train Test Split, TFIDF Vectorization"
   ]
  },
  {
   "cell_type": "code",
   "execution_count": 13,
   "metadata": {},
   "outputs": [],
   "source": [
    "X = imdb_reviews_df.text\n",
    "y = imdb_reviews_df.emotion\n",
    "\n",
    "X_train, X_test, y_train, y_test = train_test_split(X, y, test_size = 0.4, random_state = 24)"
   ]
  },
  {
   "cell_type": "code",
   "execution_count": 14,
   "metadata": {},
   "outputs": [],
   "source": [
    "tf_idf = TfidfVectorizer()\n",
    "\n",
    "X_train = tf_idf.fit_transform(X_train.tolist())\n",
    "X_test = tf_idf.transform(X_test.tolist())"
   ]
  },
  {
   "cell_type": "code",
   "execution_count": 15,
   "metadata": {},
   "outputs": [
    {
     "name": "stdout",
     "output_type": "stream",
     "text": [
      "(24000, 97391) (16000, 97391)\n"
     ]
    }
   ],
   "source": [
    "print(X_train.shape, X_test.shape)"
   ]
  },
  {
   "cell_type": "code",
   "execution_count": 18,
   "metadata": {},
   "outputs": [],
   "source": [
    "# LabelEncode\n",
    "label_encoder = preprocessing.LabelEncoder()\n",
    "\n",
    "y_train = label_encoder.fit_transform(y_train)\n",
    "y_test = label_encoder.transform(y_test)"
   ]
  },
  {
   "cell_type": "markdown",
   "metadata": {},
   "source": [
    "### Baseline (Dummy) Model"
   ]
  },
  {
   "cell_type": "code",
   "execution_count": null,
   "metadata": {},
   "outputs": [],
   "source": [
    "estimator = DummyClassifier(strategy='most_frequent')\n",
    "estimator.fit(X_train, y_train)\n",
    "\n",
    "# Get predictions with dummy model\n",
    "y_pred = estimator.predict(X_test)\n",
    "\n",
    "# Set figsize and font scale\n",
    "sns.set(rc={'figure.figsize':(8, 8)})\n",
    "sns.set(font_scale=1)\n",
    "\n",
    "# Set diply labesl for confusion matrix\n",
    "display_labels = ['Negative', 'Positive']\n",
    "\n",
    "# Plot a confusion matrix on the test data\n",
    "plot_confusion_matrix(estimator=estimator,\n",
    "                      X=X_test,\n",
    "                      y_true=y_test,\n",
    "                      display_labels=display_labels)\n",
    "\n",
    "# Save confusion matrix as png and place it in the images folder\n",
    "plt.savefig('images/Confusion_Matrix_Dummy');\n",
    "\n",
    "target_names = ['Negative', 'Positive']\n",
    "print(classification_report(y_test, y_pred, target_names=target_names))"
   ]
  },
  {
   "cell_type": "markdown",
   "metadata": {},
   "source": [
    "### Logistic Regression"
   ]
  },
  {
   "cell_type": "code",
   "execution_count": null,
   "metadata": {},
   "outputs": [],
   "source": [
    "pipe = ImPipeline(steps=[\n",
    "    ('estimator', LogisticRegression(random_state=42))\n",
    "    \n",
    "])\n",
    "\n",
    "param_grid = {}\n",
    "param_grid['estimator__C'] = [100, 10, 1.0, 0.1, 0.01]\n",
    "param_grid['estimator__solver'] = ['newton-cg', 'lbfgs', 'liblinear']\n",
    "param_grid['estimator__penalty'] = ['l2']\n",
    "\n",
    "grid_search = GridSearchCV(estimator=pipe, \n",
    "                           param_grid=param_grid, \n",
    "                           cv=RepeatedStratifiedKFold(n_splits=10, n_repeats=3, random_state=42), \n",
    "                           return_train_score=True, \n",
    "                           scoring='accuracy', \n",
    "                           n_jobs=-1,\n",
    "                           verbose=2)\n",
    "\n",
    "# Fit models run gridsearch\n",
    "grid_search.fit(X_train, y_train)\n",
    "\n",
    "# Mean training score\n",
    "grid_train_score = np.mean(grid_search.cv_results_['mean_train_score'])\n",
    "\n",
    "# Mean test score\n",
    "grid_test_score = grid_search.score(X_test, y_test)\n",
    "\n",
    "best_grid = grid_search.best_estimator_\n",
    "best_grid.fit(X_train, y_train)\n",
    "y_pred = best_grid.predict(X_test)\n",
    "\n",
    "print(f\"Mean Training Score: {grid_train_score:.2%}\\n\")\n",
    "print(f\"Mean Test Score: {grid_test_score:.2%}\\n\")\n",
    "\n",
    "print(f\" Final Hyperparameters: {grid_search.best_params_}\\n\")\n",
    "print(f\" Accuracy: {grid_search.best_score_:.2%}\\n\")\n",
    "\n",
    "# Set figsize and font scale\n",
    "sns.set(rc={'figure.figsize':(8, 8)})\n",
    "sns.set(font_scale=1)\n",
    "\n",
    "# Set diply labesl for confusion matrix\n",
    "display_labels = ['Negative', 'Positive']\n",
    "\n",
    "# Plot a confusion matrix on the test data\n",
    "plot_confusion_matrix(estimator=best_grid,\n",
    "                      X=X_test,\n",
    "                      y_true=y_test,\n",
    "                      display_labels=display_labels)\n",
    "\n",
    "\n",
    "target_names = ['Negative', 'Positive']\n",
    "print(classification_report(y_test, y_pred, target_names=target_names))\n",
    "\n",
    "# Save confusion matrix as png and place it in the images folder\n",
    "plt.savefig('images/LogReg_Model');"
   ]
  },
  {
   "cell_type": "markdown",
   "metadata": {},
   "source": [
    "#### Ridge Regression"
   ]
  },
  {
   "cell_type": "code",
   "execution_count": null,
   "metadata": {},
   "outputs": [],
   "source": []
  }
 ],
 "metadata": {
  "kernelspec": {
   "display_name": "Python (learn-env)",
   "language": "python",
   "name": "learn-env"
  },
  "language_info": {
   "codemirror_mode": {
    "name": "ipython",
    "version": 3
   },
   "file_extension": ".py",
   "mimetype": "text/x-python",
   "name": "python",
   "nbconvert_exporter": "python",
   "pygments_lexer": "ipython3",
   "version": "3.8.5"
  }
 },
 "nbformat": 4,
 "nbformat_minor": 4
}
